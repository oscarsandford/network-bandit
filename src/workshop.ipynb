{
 "cells": [
  {
   "cell_type": "code",
   "execution_count": null,
   "id": "da28a6cf",
   "metadata": {},
   "outputs": [],
   "source": [
    "from bandit import *\n",
    "\n",
    "import matplotlib.pyplot as plt\n",
    "import numpy as np\n",
    "\n",
    "%matplotlib inline"
   ]
  },
  {
   "cell_type": "code",
   "execution_count": null,
   "id": "1d459b53",
   "metadata": {},
   "outputs": [],
   "source": [
    "def plot(nsteps:int, fns:list, params:list, labels:list):\n",
    "    assert len(fns) == len(params) == len(labels), \"Number of functions, the number of function parameter collections, and the number of their labels must be the same.\"\n",
    "    for i, fn in enumerate(fns):\n",
    "        runs = fn(**params[i], nsteps=nsteps)\n",
    "        plt.plot(runs, label=labels[i])\n",
    "\n",
    "    plt.xlabel(\"step\")\n",
    "    plt.ylabel(\"average reward over 100 runs at step\")\n",
    "    plt.legend(labels)\n",
    "    plt.show()"
   ]
  },
  {
   "cell_type": "code",
   "execution_count": null,
   "id": "389fcc1c",
   "metadata": {
    "pycharm": {
     "name": "#%%\n"
    }
   },
   "outputs": [],
   "source": []
  }
 ],
 "metadata": {
  "kernelspec": {
   "display_name": "Python 3 (ipykernel)",
   "language": "python",
   "name": "python3"
  },
  "language_info": {
   "codemirror_mode": {
    "name": "ipython",
    "version": 3
   },
   "file_extension": ".py",
   "mimetype": "text/x-python",
   "name": "python",
   "nbconvert_exporter": "python",
   "pygments_lexer": "ipython3",
   "version": "3.8.10"
  }
 },
 "nbformat": 4,
 "nbformat_minor": 5
}
