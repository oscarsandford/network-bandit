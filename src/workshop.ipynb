{
 "cells": [
  {
   "cell_type": "markdown",
   "id": "7e69330d",
   "metadata": {},
   "source": [
    "### Workshop Notebook\n",
    "A notebook for creating graphs and interacting with implementation code in a more interactive way. Use at your convenience."
   ]
  },
  {
   "cell_type": "code",
   "execution_count": null,
   "id": "da28a6cf",
   "metadata": {},
   "outputs": [],
   "source": [
    "from bandit import *\n",
    "\n",
    "import matplotlib.pyplot as plt\n",
    "import numpy as np\n",
    "\n",
    "%matplotlib inline"
   ]
  },
  {
   "cell_type": "code",
   "execution_count": null,
   "id": "1d459b53",
   "metadata": {},
   "outputs": [],
   "source": [
    "def plot(nsteps:int, fns:list, params:list, labels:list):\n",
    "    assert len(fns) == len(params) == len(labels), \"Number of functions, the number of function parameter collections, and the number of their labels must be the same.\"\n",
    "    for i, fn in enumerate(fns):\n",
    "        runs = fn(**params[i], nsteps=nsteps)\n",
    "        plt.plot(runs, label=labels[i])\n",
    "\n",
    "    plt.xlabel(\"step\")\n",
    "    plt.ylabel(\"average reward over 100 runs at step\")\n",
    "    plt.legend(labels)\n",
    "    plt.show()"
   ]
  },
  {
   "cell_type": "code",
   "execution_count": null,
   "id": "389fcc1c",
   "metadata": {
    "pycharm": {
     "name": "#%%\n"
    }
   },
   "outputs": [],
   "source": [
    "base5 = [PeerArm(2, 1), PeerArm(4, 1), PeerArm(6, 1), PeerArm(8, 1), PeerArm(10, 1)]\n",
    "gen10 = create_peers(10, \n",
    "    np.random.poisson, dict(lam=5.0), \n",
    "    np.random.normal, dict(loc=10.0, scale=1.5), \n",
    "    np.random.normal, dict(loc=0.5, scale=0.1))"
   ]
  },
  {
   "cell_type": "code",
   "execution_count": null,
   "id": "4af6b18f",
   "metadata": {},
   "outputs": [],
   "source": [
    "# plot(\n",
    "#     1000,\n",
    "#     [epsilon, epsilon, UCB, softmax, exp3], \n",
    "#     [dict(strategy=\"eps-greedy\", arms=gen10, eps=0.1, timesteps=20), \n",
    "#     dict(strategy=\"eps-first\", arms=gen10, eps=0.1, timesteps=20),\n",
    "#     dict(strategy=\"UCB\", arms=gen10, timesteps=20),\n",
    "#     dict(arms=gen10, tau=0.1, timesteps=20),\n",
    "#     dict(arms=gen10, gamma=0.1, timesteps=20)], \n",
    "#     [\"eps-g=0.1\", \"eps-f=0.1\", \"UCB\", \"softmax-tau=0.1\", \"exp3-gamma=0.1\"])\n",
    "\n",
    "# plot(\n",
    "#     [epsilon, softmax, UCB, UCB], \n",
    "#     [dict(strategy=\"eps-greedy\", arms=base5, eps=0.1),\n",
    "#     dict(arms=base5, tau=0.1),\n",
    "#     dict(strategy=\"UCB\", arms=base5),\n",
    "#     dict(strategy=\"UCB-1\", arms=base5)], \n",
    "#     [\"eps-g=0.1\", \"softmax-tau=0.1\", \"UCB\", \"UCB-1\"])"
   ]
  }
 ],
 "metadata": {
  "kernelspec": {
   "display_name": "Python 3 (ipykernel)",
   "language": "python",
   "name": "python3"
  },
  "language_info": {
   "codemirror_mode": {
    "name": "ipython",
    "version": 3
   },
   "file_extension": ".py",
   "mimetype": "text/x-python",
   "name": "python",
   "nbconvert_exporter": "python",
   "pygments_lexer": "ipython3",
   "version": "3.8.10"
  }
 },
 "nbformat": 4,
 "nbformat_minor": 5
}
