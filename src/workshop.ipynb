{
 "cells": [
  {
   "cell_type": "markdown",
   "id": "de3e79f4",
   "metadata": {},
   "source": [
    "## Workshop Notebook\n",
    "\n",
    "A notebook for creating graphs and interacting with implementation code in a more interactive way. Use at your convenience."
   ]
  },
  {
   "cell_type": "code",
   "execution_count": 1,
   "id": "da28a6cf",
   "metadata": {},
   "outputs": [],
   "source": [
    "from bandit import *\n",
    "\n",
    "import matplotlib.pyplot as plt\n",
    "import numpy as np\n",
    "\n",
    "%matplotlib inline"
   ]
  },
  {
   "cell_type": "code",
   "execution_count": null,
   "id": "1d459b53",
   "metadata": {},
   "outputs": [],
   "source": []
  }
 ],
 "metadata": {
  "kernelspec": {
   "display_name": "Python 3 (ipykernel)",
   "language": "python",
   "name": "python3"
  },
  "language_info": {
   "codemirror_mode": {
    "name": "ipython",
    "version": 3
   },
   "file_extension": ".py",
   "mimetype": "text/x-python",
   "name": "python",
   "nbconvert_exporter": "python",
   "pygments_lexer": "ipython3",
   "version": "3.8.10"
  }
 },
 "nbformat": 4,
 "nbformat_minor": 5
}
