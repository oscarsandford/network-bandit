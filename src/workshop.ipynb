{
 "cells": [
  {
   "cell_type": "markdown",
   "id": "de3e79f4",
   "metadata": {},
   "source": [
    "## Workshop Notebook\n",
    "\n",
    "A notebook for creating graphs and interacting with implementation code in a more interactive way. Use at your convenience."
   ]
  },
  {
   "cell_type": "markdown",
   "id": "de3e79f4",
   "metadata": {},
   "source": [
    "## Workshop Notebook\n",
    "\n",
    "A notebook for creating graphs and interacting with implementation code in a more interactive way. Use at your convenience."
   ]
  },
  {
   "cell_type": "code",
   "execution_count": null,
   "id": "da28a6cf",
   "metadata": {},
   "outputs": [],
   "source": [
    "from bandit import *\n",
    "\n",
    "import matplotlib.pyplot as plt\n",
    "import numpy as np\n",
    "\n",
    "%matplotlib inline"
   ]
  },
  {
   "cell_type": "code",
   "execution_count": null,
   "id": "1d459b53",
   "metadata": {},
   "outputs": [],
   "source": [
    "def plot(fns:list, params:list, labels:list, title:str=\"Plot\"):\n",
    "    assert len(fns) == len(params) == len(labels), \"Number of functions, the number of function parameter collections, and the number of their labels must be the same.\"\n",
    "    for i, fn in enumerate(fns):\n",
    "        print(f\"{params[i]}\")\n",
    "\n",
    "        runs = fn(**params[i])\n",
    "        plt.plot(runs, label=labels[i])\n",
    "\n",
    "    plt.xlabel(\"step\")\n",
    "    plt.ylabel(\"average reward over 100 runs at step\")\n",
    "    plt.title(title)\n",
    "    plt.show()"
   ]
  },
  {
   "cell_type": "code",
   "execution_count": null,
   "id": "b03d9324",
   "metadata": {},
   "outputs": [],
   "source": [
    "peer_arms = [PeerArm(2, 1), PeerArm(4, 1), PeerArm(6, 1), PeerArm(8, 1), PeerArm(10, 1)]\n",
    "\n",
    "plot([epsilon], [dict(strategy=\"eps-greedy\", arms=peer_arms, eps=0.1)], [\"eps=0.1\"])"
   ]
  }
 ],
 "metadata": {
  "kernelspec": {
   "display_name": "Python 3 (ipykernel)",
   "language": "python",
   "name": "python3"
  },
  "language_info": {
   "codemirror_mode": {
    "name": "ipython",
    "version": 3
   },
   "file_extension": ".py",
   "mimetype": "text/x-python",
   "name": "python",
   "nbconvert_exporter": "python",
   "pygments_lexer": "ipython3",
   "version": "3.8.10"
  }
 },
 "nbformat": 4,
 "nbformat_minor": 5
}
